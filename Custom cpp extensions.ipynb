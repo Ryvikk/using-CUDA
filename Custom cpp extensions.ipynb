{
 "cells": [
  {
   "cell_type": "code",
   "execution_count": 1,
   "id": "a0554dd0-d142-4c74-9c7d-d4b17fde45ce",
   "metadata": {},
   "outputs": [],
   "source": [
    "import torch\n",
    "from torch.utils.cpp_extension import load_inline"
   ]
  },
  {
   "cell_type": "code",
   "execution_count": 21,
   "id": "8cb53523-c763-4e22-80ac-0f811ec704ea",
   "metadata": {},
   "outputs": [],
   "source": [
    "cpp_source_0 = '''\n",
    "std::string hello_world() {\n",
    "    return \"Hello World!\";\n",
    "}\n",
    "'''"
   ]
  },
  {
   "cell_type": "code",
   "execution_count": 36,
   "id": "1566dd9b-0828-4427-a4da-9059d4bda257",
   "metadata": {},
   "outputs": [],
   "source": [
    "cpp_source_1 = '''\n",
    "int square(int i) {\n",
    "    return i*i;\n",
    "}\n",
    "'''"
   ]
  },
  {
   "cell_type": "code",
   "execution_count": null,
   "id": "e6327c25-a03f-45c7-8292-bc12b67be6ea",
   "metadata": {},
   "outputs": [],
   "source": [
    "my_module = load_inline(\n",
    "    name = 'my_module',\n",
    "    cpp_sources = [cpp_source_0, cpp_source_1],\n",
    "    functions = ['hello_world', 'square'],\n",
    "    build_directory='./tmp',\n",
    "    verbose = True\n",
    ")"
   ]
  },
  {
   "cell_type": "code",
   "execution_count": null,
   "id": "d828a83f-e8ad-460f-8e23-13d14b17b567",
   "metadata": {},
   "outputs": [],
   "source": [
    "my_module.__dict__"
   ]
  },
  {
   "cell_type": "code",
   "execution_count": 40,
   "id": "6a7a3783-2d8c-4e23-9719-de4f75ef7b17",
   "metadata": {},
   "outputs": [
    {
     "name": "stdout",
     "output_type": "stream",
     "text": [
      "Hello World!\n"
     ]
    }
   ],
   "source": [
    "print(my_module.hello_world())"
   ]
  },
  {
   "cell_type": "code",
   "execution_count": 42,
   "id": "89425268-e6d9-4daf-a490-0f5fc598581a",
   "metadata": {},
   "outputs": [
    {
     "name": "stdout",
     "output_type": "stream",
     "text": [
      "25\n"
     ]
    }
   ],
   "source": [
    "print(my_module.square(5))"
   ]
  },
  {
   "cell_type": "code",
   "execution_count": null,
   "id": "b4bdd5bb-b575-473c-94dc-67ad731a336a",
   "metadata": {},
   "outputs": [],
   "source": []
  }
 ],
 "metadata": {
  "kernelspec": {
   "display_name": "Python 3 (ipykernel)",
   "language": "python",
   "name": "python3"
  },
  "language_info": {
   "codemirror_mode": {
    "name": "ipython",
    "version": 3
   },
   "file_extension": ".py",
   "mimetype": "text/x-python",
   "name": "python",
   "nbconvert_exporter": "python",
   "pygments_lexer": "ipython3",
   "version": "3.11.5"
  }
 },
 "nbformat": 4,
 "nbformat_minor": 5
}
